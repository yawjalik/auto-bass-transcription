{
 "cells": [
  {
   "cell_type": "code",
   "execution_count": 1,
   "id": "initial_id",
   "metadata": {
    "collapsed": true,
    "ExecuteTime": {
     "end_time": "2024-02-19T14:58:02.051054Z",
     "start_time": "2024-02-19T14:57:57.666821Z"
    }
   },
   "outputs": [],
   "source": [
    "from basic_pitch.inference import predict\n",
    "import librosa\n",
    "import matplotlib.pyplot as plt\n",
    "import soundfile as sf"
   ]
  },
  {
   "cell_type": "code",
   "outputs": [
    {
     "name": "stdout",
     "output_type": "stream",
     "text": [
      "Predicting MIDI for audio/mario_kart_bass_t.wav...\n"
     ]
    }
   ],
   "source": [
    "model_output, midi_data, note_events = predict(\"audio/mario_kart_bass_t.wav\")"
   ],
   "metadata": {
    "collapsed": false,
    "ExecuteTime": {
     "end_time": "2024-02-19T14:58:03.649770Z",
     "start_time": "2024-02-19T14:58:02.051337Z"
    }
   },
   "id": "38628d5008772d79",
   "execution_count": 2
  },
  {
   "cell_type": "code",
   "outputs": [],
   "source": [
    "fs_out = midi_data.fluidsynth()\n",
    "sf.write(\"synth/output.wav\", fs_out, 44100)"
   ],
   "metadata": {
    "collapsed": false,
    "ExecuteTime": {
     "end_time": "2024-02-19T14:58:03.771267Z",
     "start_time": "2024-02-19T14:58:03.651335Z"
    }
   },
   "id": "d9f6fefc3b359756",
   "execution_count": 3
  },
  {
   "cell_type": "code",
   "outputs": [],
   "source": [
    "midi_data.write(\"synth/output.mid\")"
   ],
   "metadata": {
    "collapsed": false,
    "ExecuteTime": {
     "end_time": "2024-02-19T14:58:03.779105Z",
     "start_time": "2024-02-19T14:58:03.773364Z"
    }
   },
   "id": "e726526a36796862",
   "execution_count": 4
  },
  {
   "cell_type": "code",
   "outputs": [],
   "source": [],
   "metadata": {
    "collapsed": false
   },
   "id": "3f9114ae3e4c69b1"
  }
 ],
 "metadata": {
  "kernelspec": {
   "display_name": "Python 3",
   "language": "python",
   "name": "python3"
  },
  "language_info": {
   "codemirror_mode": {
    "name": "ipython",
    "version": 2
   },
   "file_extension": ".py",
   "mimetype": "text/x-python",
   "name": "python",
   "nbconvert_exporter": "python",
   "pygments_lexer": "ipython2",
   "version": "2.7.6"
  }
 },
 "nbformat": 4,
 "nbformat_minor": 5
}
